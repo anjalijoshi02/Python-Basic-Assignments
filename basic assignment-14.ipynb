{
 "cells": [
  {
   "cell_type": "markdown",
   "id": "1fbea3e2",
   "metadata": {},
   "source": [
    "# Python Basic Assignment -14"
   ]
  },
  {
   "cell_type": "markdown",
   "id": "27d8825f",
   "metadata": {},
   "source": [
    "#### Question : 1 What does RGBA stand for?"
   ]
  },
  {
   "cell_type": "markdown",
   "id": "c15a3adf",
   "metadata": {},
   "source": [
    "RGBA is a four-channel format containing data for Red, Green, Blue, and an Alpha value. Where Alpha Represents the Opacity"
   ]
  },
  {
   "cell_type": "markdown",
   "id": "e8398279",
   "metadata": {},
   "source": [
    "#### Question : 2 From the Pillow module, how do you get the RGBA value of any images?"
   ]
  },
  {
   "cell_type": "markdown",
   "id": "644ac486",
   "metadata": {},
   "source": [
    "ImageColor.getcolor() gives rgba value of any image"
   ]
  },
  {
   "cell_type": "markdown",
   "id": "5e67456b",
   "metadata": {},
   "source": [
    "#### Question : 3 What is a box tuple, and how does it work?"
   ]
  },
  {
   "cell_type": "markdown",
   "id": "ada725dd",
   "metadata": {},
   "source": [
    "A box tuple is a tuple value of four integers: the left-edge x-coordinate, the top-edge y-coordinate,the width, and the height, respectively."
   ]
  },
  {
   "cell_type": "markdown",
   "id": "7c3acc94",
   "metadata": {},
   "source": [
    "#### Question : 4 Use your image and load in notebook then, How can you find out the width and height of an Image object?"
   ]
  },
  {
   "cell_type": "code",
   "execution_count": 1,
   "id": "0805a426",
   "metadata": {},
   "outputs": [
    {
     "name": "stdout",
     "output_type": "stream",
     "text": [
      "Width, Height -> (831, 409)\n",
      "Width, Height -> 831,409\n",
      "Width, Height -> 831,409\n"
     ]
    }
   ],
   "source": [
    "from PIL import Image\n",
    "pic = Image.open('sign.jpg')\n",
    "print(f'Width, Height -> {pic.size}') \n",
    "print(f'Width, Height -> {pic.width},{pic.height}') \n",
    "width,height = pic.size\n",
    "print(f'Width, Height -> {width},{height}') "
   ]
  },
  {
   "cell_type": "markdown",
   "id": "661d6af3",
   "metadata": {},
   "source": [
    "#### Question : 5 What method would you call to get Image object for a 100×100 image, excluding the lower-left quarter of it?"
   ]
  },
  {
   "cell_type": "code",
   "execution_count": 2,
   "id": "b738d4f7",
   "metadata": {},
   "outputs": [],
   "source": [
    "from PIL import Image\n",
    "img = Image.open('sign.jpg')\n",
    "new_img = img.crop((0,50,50,50))"
   ]
  },
  {
   "cell_type": "markdown",
   "id": "dc3df332",
   "metadata": {},
   "source": [
    "#### Question : 6  After making changes to an Image object, how could you save it as an image file?"
   ]
  },
  {
   "cell_type": "code",
   "execution_count": 3,
   "id": "bf192577",
   "metadata": {},
   "outputs": [],
   "source": [
    "from PIL import Image\n",
    "pic = Image.open('sign.jpg')\n",
    "pic.save('sign(1).jpg')"
   ]
  },
  {
   "cell_type": "markdown",
   "id": "6bb8c746",
   "metadata": {},
   "source": [
    "#### Question : 7 What module contains Pillow’s shape-drawing code?"
   ]
  },
  {
   "cell_type": "markdown",
   "id": "75010da1",
   "metadata": {},
   "source": [
    " Pillows ImageDraw module contains Shape drawing methods"
   ]
  },
  {
   "cell_type": "markdown",
   "id": "5f29dff9",
   "metadata": {},
   "source": [
    "#### Question : 8 Image objects do not have drawing methods. What kind of object does? How do you get this kind of object?"
   ]
  },
  {
   "cell_type": "markdown",
   "id": "a729e315",
   "metadata": {},
   "source": [
    " ImageDraw objects have shape-drawing methods such as point(), line(), or rectangle().They are returned by passing the Image object to the ImageDraw.Draw() function."
   ]
  }
 ],
 "metadata": {
  "kernelspec": {
   "display_name": "Python 3 (ipykernel)",
   "language": "python",
   "name": "python3"
  },
  "language_info": {
   "codemirror_mode": {
    "name": "ipython",
    "version": 3
   },
   "file_extension": ".py",
   "mimetype": "text/x-python",
   "name": "python",
   "nbconvert_exporter": "python",
   "pygments_lexer": "ipython3",
   "version": "3.9.12"
  }
 },
 "nbformat": 4,
 "nbformat_minor": 5
}
