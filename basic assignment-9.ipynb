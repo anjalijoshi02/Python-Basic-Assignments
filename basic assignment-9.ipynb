{
 "cells": [
  {
   "cell_type": "markdown",
   "id": "3577ab94",
   "metadata": {},
   "source": [
    "# Python basic assignment-9"
   ]
  },
  {
   "cell_type": "markdown",
   "id": "834a0933",
   "metadata": {},
   "source": [
    "#### Question1:To what does a relative path refer ?"
   ]
  },
  {
   "cell_type": "markdown",
   "id": "2e9bced6",
   "metadata": {},
   "source": [
    "The relative path is the path to some file with respect to your current working directory (PWD)"
   ]
  },
  {
   "cell_type": "markdown",
   "id": "7dfe7847",
   "metadata": {},
   "source": [
    "#### Question 2:Where does an absolute path start with your Operating System?"
   ]
  },
  {
   "cell_type": "markdown",
   "id": "fcd843bb",
   "metadata": {},
   "source": [
    "- In Windows based systems absolute path starts with C:\n",
    "- In Linux based systems the absolute path starts with /."
   ]
  },
  {
   "cell_type": "markdown",
   "id": "bbf53c46",
   "metadata": {},
   "source": [
    "#### Question 3:.What does the functions os.getcwd() and os.chdir() do ?"
   ]
  },
  {
   "cell_type": "markdown",
   "id": "1da30bba",
   "metadata": {},
   "source": [
    "- os.getcwd() is used to get the current working directory while os.chdir() is used to change the current working directory to a specified path."
   ]
  },
  {
   "cell_type": "markdown",
   "id": "b0ae9682",
   "metadata": {},
   "source": [
    "#### Question 4:What are . and .. folders ?"
   ]
  },
  {
   "cell_type": "markdown",
   "id": "6661018e",
   "metadata": {},
   "source": [
    "'.' represents the Current directory while '..' represents the parent directory of the current directory."
   ]
  },
  {
   "cell_type": "markdown",
   "id": "594225f4",
   "metadata": {},
   "source": [
    "#### Question 5:What are the three mode arguments that can be passed to the open() function ?"
   ]
  },
  {
   "cell_type": "markdown",
   "id": "6ca4cc53",
   "metadata": {},
   "source": [
    "1. 'r'- read mode. File will be opened solely for the purpose of reading.\n",
    "2. 'w' -write mode. File will be opened to write, if it does not exist then a new file be created.\n",
    "3. 'w+' - in this a file will be opened to perform reading and writing simultaneously."
   ]
  },
  {
   "cell_type": "markdown",
   "id": "3aee77da",
   "metadata": {},
   "source": [
    "#### Question 6:What happens if an existing file is opened in write mode ?"
   ]
  },
  {
   "cell_type": "markdown",
   "id": "19ac7b60",
   "metadata": {},
   "source": [
    "If the file does not exist , then opening a file in write mode will create one. On the other hand if an existing file is opened in write mode then the content will be overwritten."
   ]
  },
  {
   "cell_type": "markdown",
   "id": "2e7e8a58",
   "metadata": {},
   "source": [
    "#### Question 7:In C:\\bacon\\eggs\\spam.txt which part is the dir name and which part is the base name ?"
   ]
  },
  {
   "cell_type": "markdown",
   "id": "c2a2930e",
   "metadata": {},
   "source": [
    "- Dir name is :  C:\\bacon\\eggs \n",
    "- Base name is : spam.txt"
   ]
  },
  {
   "cell_type": "markdown",
   "id": "4f3fd236",
   "metadata": {},
   "source": [
    "#### Question 8:How do you tell the difference between read() and readlines() ?"
   ]
  },
  {
   "cell_type": "markdown",
   "id": "d64b1501",
   "metadata": {},
   "source": [
    "Read is used to read only single character while readlines is used to read the line or string from the file."
   ]
  },
  {
   "cell_type": "markdown",
   "id": "56d0337f",
   "metadata": {},
   "source": [
    "#### Question 9:What data structure does a shelf value resemble ?"
   ]
  },
  {
   "cell_type": "markdown",
   "id": "89b0be4f",
   "metadata": {},
   "source": [
    "It resembles dictionary."
   ]
  }
 ],
 "metadata": {
  "kernelspec": {
   "display_name": "Python 3 (ipykernel)",
   "language": "python",
   "name": "python3"
  },
  "language_info": {
   "codemirror_mode": {
    "name": "ipython",
    "version": 3
   },
   "file_extension": ".py",
   "mimetype": "text/x-python",
   "name": "python",
   "nbconvert_exporter": "python",
   "pygments_lexer": "ipython3",
   "version": "3.9.12"
  }
 },
 "nbformat": 4,
 "nbformat_minor": 5
}
