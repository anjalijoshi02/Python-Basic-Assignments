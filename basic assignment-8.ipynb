{
 "cells": [
  {
   "cell_type": "markdown",
   "id": "70f9188d",
   "metadata": {},
   "source": [
    "# Python Basic Assignment-8"
   ]
  },
  {
   "cell_type": "markdown",
   "id": "eab2dc0b",
   "metadata": {},
   "source": [
    "#### Question1: Is the Python Standard Library included with PyInputPlus?"
   ]
  },
  {
   "cell_type": "markdown",
   "id": "cc7b8f53",
   "metadata": {},
   "source": [
    "No, it is not a part of Python Standard Library. It needs to be installed using !pip install PyInputPlus"
   ]
  },
  {
   "cell_type": "markdown",
   "id": "1a277794",
   "metadata": {},
   "source": [
    "#### Question 2:Why is PyInputPlus commonly imported with import pyinputplus as pypi?"
   ]
  },
  {
   "cell_type": "markdown",
   "id": "ff0244bf",
   "metadata": {},
   "source": [
    "We can import the module with import pyinputplus as pyip so that we can enter a shorter name when calling the module's functions."
   ]
  },
  {
   "cell_type": "markdown",
   "id": "ebd11e41",
   "metadata": {},
   "source": [
    "#### Question 3: How do you distinguish between inputInt() and inputFloat()?"
   ]
  },
  {
   "cell_type": "markdown",
   "id": "ca3ffe21",
   "metadata": {},
   "source": [
    "- inputInt() takes integer argument and return value is of int datatype.\n",
    "- inputFloat() accepts a floating type numeric value and returns a float value.\n",
    "- Both functions take additional parameters like min, max, greater than , less than."
   ]
  },
  {
   "cell_type": "markdown",
   "id": "7fc748fa",
   "metadata": {},
   "source": [
    "#### Question 4:Using PyInputPlus, how do you ensure that the user enters a whole number between 0 and 99?"
   ]
  },
  {
   "cell_type": "markdown",
   "id": "5ebae835",
   "metadata": {},
   "source": [
    "To ensure that a user enters whole number one can use the function inputInt() and to restrict the range we can specify the range using min and max."
   ]
  },
  {
   "cell_type": "markdown",
   "id": "d44cdbeb",
   "metadata": {},
   "source": [
    "#### Question 5: What is transferred to the keyword arguments allowRegexes and blockRegexes?"
   ]
  },
  {
   "cell_type": "markdown",
   "id": "ff6bd5a6",
   "metadata": {},
   "source": [
    "We can use allowRegexes and blockRegexes keyword arguments to take list of regular expression strings to determine what the pyinputplus function will reject or accept valid input."
   ]
  },
  {
   "cell_type": "markdown",
   "id": "f0908cd9",
   "metadata": {},
   "source": [
    "#### Question 6:If a blank input is entered three times, what does inputStr(limit=3) do?"
   ]
  },
  {
   "cell_type": "markdown",
   "id": "1f32148c",
   "metadata": {},
   "source": [
    "The statement inputStr(limit=3) will throw two exceptions ValidationException and RetryLimitException. The first exception is thrown because blank values are not allowed by inputStr() function by default. it we want to consider blank values as valid input, we have to set blank=True.\n",
    "\n",
    "The second exception is occured because we have reached the max limit we have specified by using limit parameter. inorder to avoid this exception we can use default parameter to return a default value when max limit is reached. "
   ]
  },
  {
   "cell_type": "markdown",
   "id": "96318153",
   "metadata": {},
   "source": [
    "#### Question 7:If blank input is entered three times, what does inputStr(limit=3, default='hello') do?"
   ]
  },
  {
   "cell_type": "markdown",
   "id": "0095aad0",
   "metadata": {},
   "source": [
    "Since the default parameter is set to hello. after blank input is entered three times instead of raising RetryLimitException exception. the function will return hello as response to the calling function"
   ]
  }
 ],
 "metadata": {
  "kernelspec": {
   "display_name": "Python 3 (ipykernel)",
   "language": "python",
   "name": "python3"
  },
  "language_info": {
   "codemirror_mode": {
    "name": "ipython",
    "version": 3
   },
   "file_extension": ".py",
   "mimetype": "text/x-python",
   "name": "python",
   "nbconvert_exporter": "python",
   "pygments_lexer": "ipython3",
   "version": "3.9.12"
  }
 },
 "nbformat": 4,
 "nbformat_minor": 5
}
