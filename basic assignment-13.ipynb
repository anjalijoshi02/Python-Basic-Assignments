{
 "cells": [
  {
   "cell_type": "markdown",
   "id": "f84786ea",
   "metadata": {},
   "source": [
    "# Python Basic Assignment-13"
   ]
  },
  {
   "cell_type": "markdown",
   "id": "e2c88106",
   "metadata": {},
   "source": [
    "#### Question :1What advantages do Excel spreadsheets have over CSV spreadsheets?"
   ]
  },
  {
   "cell_type": "markdown",
   "id": "e5b46f85",
   "metadata": {},
   "source": [
    "1. Excel format is better for storing and analysing complex data.\n",
    "2. An Excel not only stores data but can also do operations on the data using macros, formulas etc\n",
    "3. CSV files are plain-text files, Does not contain formatting, formulas, macros, etc. It is also known as flat files"
   ]
  },
  {
   "cell_type": "markdown",
   "id": "7b3b13c0",
   "metadata": {},
   "source": [
    "#### Question :2What do you pass to csv.reader() and csv.writer() to create reader and writer objects?"
   ]
  },
  {
   "cell_type": "code",
   "execution_count": null,
   "id": "b0e78cf2",
   "metadata": {},
   "outputs": [],
   "source": [
    "import csv\n",
    "with open(file_name,'r') as file:\n",
    "    csv_file = csv.reader(file,delimiter=',')\n",
    "    for element in csv_file:\n",
    "        print(element)"
   ]
  },
  {
   "cell_type": "markdown",
   "id": "eb73c67f",
   "metadata": {},
   "source": [
    "#### Question :3 What modes do File objects for reader and writer objects need to be opened in?"
   ]
  },
  {
   "cell_type": "markdown",
   "id": "7a99b87b",
   "metadata": {},
   "source": [
    "- For csv.reader() the files need to be opened in read mode , ie 'r' mode\n",
    "- For csv.writer() the files need to be opened in write 'w' mode."
   ]
  },
  {
   "cell_type": "markdown",
   "id": "d03d25c4",
   "metadata": {},
   "source": [
    "#### Question :4 What method takes a list argument and writes it to a CSV file?"
   ]
  },
  {
   "cell_type": "markdown",
   "id": "ada95e1a",
   "metadata": {},
   "source": [
    "csv.writer class provides two methods for writing to CSV. They are writerow() and writerows(). writerow() method writes a single row at a time. Whereas writerows() method is used to write multiple rows at a time."
   ]
  },
  {
   "cell_type": "markdown",
   "id": "1e83d240",
   "metadata": {},
   "source": [
    "#### Question :5 What do the keyword arguments delimiter and line terminator do?"
   ]
  },
  {
   "cell_type": "markdown",
   "id": "be797b8b",
   "metadata": {},
   "source": [
    "take an example of a csv file    \n",
    "Name Age    \n",
    "ABC , 20    \n",
    "XYZ , 22    \n",
    "- Here the delimeter is a comma ie, ','. A delimiter is a sequence of one or more characters for specifying the boundary between separate, independent regions in plain text, mathematical expressions or other data streams.\n",
    "\n",
    "- A lineterminator is a string used to terminate lines produced by writer objects. The default value is \\r\\n"
   ]
  },
  {
   "cell_type": "markdown",
   "id": "fb1e937f",
   "metadata": {},
   "source": [
    "#### Question :6What function takes a string of JSON data and returns a Python data structure?"
   ]
  },
  {
   "cell_type": "markdown",
   "id": "ba93c8c2",
   "metadata": {},
   "source": [
    "loads() method takes a string of JSON data and returns a Python data structure"
   ]
  },
  {
   "cell_type": "markdown",
   "id": "292b7f9b",
   "metadata": {},
   "source": [
    "#### Question :7What function takes a Python data structure and returns a string of JSON data?"
   ]
  },
  {
   "cell_type": "markdown",
   "id": "da207a78",
   "metadata": {},
   "source": [
    " dumps() method takes a python data structure and returns a string of JSON data"
   ]
  }
 ],
 "metadata": {
  "kernelspec": {
   "display_name": "Python 3 (ipykernel)",
   "language": "python",
   "name": "python3"
  },
  "language_info": {
   "codemirror_mode": {
    "name": "ipython",
    "version": 3
   },
   "file_extension": ".py",
   "mimetype": "text/x-python",
   "name": "python",
   "nbconvert_exporter": "python",
   "pygments_lexer": "ipython3",
   "version": "3.9.12"
  }
 },
 "nbformat": 4,
 "nbformat_minor": 5
}
