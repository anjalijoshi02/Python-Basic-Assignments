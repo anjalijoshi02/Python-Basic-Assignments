{
 "cells": [
  {
   "cell_type": "markdown",
   "id": "0508cd85",
   "metadata": {},
   "source": [
    "# Python Basic Assignment-22"
   ]
  },
  {
   "cell_type": "markdown",
   "id": "29f89b57",
   "metadata": {},
   "source": [
    "#### Question 1 : What is the result of the code, and explain?\n",
    "X=\"iNeuron\"     \n",
    "def func():     \n",
    "    print(X)      \n",
    "func()"
   ]
  },
  {
   "cell_type": "markdown",
   "id": "9de45f7c",
   "metadata": {},
   "source": [
    "__Ans__   The output of the above code is iNeuron.    \n",
    "Function first looks for X in its local scope, since there is no variable named X in its local scope it returns the value of X from global scope."
   ]
  },
  {
   "cell_type": "code",
   "execution_count": 1,
   "id": "a3fc745a",
   "metadata": {},
   "outputs": [
    {
     "name": "stdout",
     "output_type": "stream",
     "text": [
      "iNeuron\n"
     ]
    }
   ],
   "source": [
    "X=\"iNeuron\"\n",
    "def func():\n",
    "    print(X)\n",
    "func()"
   ]
  },
  {
   "cell_type": "markdown",
   "id": "0f6b9916",
   "metadata": {},
   "source": [
    "#### Question 2 : What is the result of the code, and explain?"
   ]
  },
  {
   "cell_type": "markdown",
   "id": "998428ea",
   "metadata": {},
   "source": [
    "__Ans__    The output of the above code is iNeuron.    \n",
    "Value of X is initially \"iNeuron\". When we call func() it changes the value of X in the local scope and does not affect the value of X in the global scope. Thus when we execute print(X) we get iNeuron because the value of X still is iNeuron. "
   ]
  },
  {
   "cell_type": "code",
   "execution_count": 2,
   "id": "8f8825f7",
   "metadata": {},
   "outputs": [
    {
     "name": "stdout",
     "output_type": "stream",
     "text": [
      "iNeuron\n"
     ]
    }
   ],
   "source": [
    "X=\"iNeuron\"\n",
    "def func():\n",
    "    X=\"NI!\"\n",
    "func()\n",
    "print(X)"
   ]
  },
  {
   "cell_type": "markdown",
   "id": "f7baecfc",
   "metadata": {},
   "source": [
    "#### Question 3 : What does this code print, and why?"
   ]
  },
  {
   "cell_type": "markdown",
   "id": "14dd17df",
   "metadata": {},
   "source": [
    "__Ans__   The output of the function is NI and iNeuron.  When we call func() it overwrites the value of X in the local scope and prints NI while the value of X still remains unchanged in the global scope and thus print(X) prints iNeuron."
   ]
  },
  {
   "cell_type": "code",
   "execution_count": 3,
   "id": "a1727761",
   "metadata": {},
   "outputs": [
    {
     "name": "stdout",
     "output_type": "stream",
     "text": [
      "NI\n",
      "iNeuron\n"
     ]
    }
   ],
   "source": [
    "X = 'iNeuron'\n",
    "def func():\n",
    "    X = 'NI'\n",
    "    print(X)\n",
    "func()\n",
    "print(X)"
   ]
  },
  {
   "cell_type": "markdown",
   "id": "9a4cc198",
   "metadata": {},
   "source": [
    "#### Question 4 : What output does this code produce? Why?\n",
    "X = 'iNeuron'      \n",
    "def func():      \n",
    "    global X      \n",
    "    X = 'NI'      \n",
    "func()      \n",
    "print(X)"
   ]
  },
  {
   "cell_type": "markdown",
   "id": "54aa3ea2",
   "metadata": {},
   "source": [
    "__Ans__ The output of the code is NI. the global keyword allows a variable to be accessible in the current scope Since we are using global keyword inside the function func it directly access the variable in X in global scope. and changes its value to NI"
   ]
  },
  {
   "cell_type": "code",
   "execution_count": 4,
   "id": "f48c4ce2",
   "metadata": {},
   "outputs": [
    {
     "name": "stdout",
     "output_type": "stream",
     "text": [
      "NI\n"
     ]
    }
   ],
   "source": [
    "X = 'iNeuron'\n",
    "def func():\n",
    "    global X\n",
    "    X = 'NI'\n",
    "func()\n",
    "print(X)"
   ]
  },
  {
   "cell_type": "markdown",
   "id": "1dbfc965",
   "metadata": {},
   "source": [
    "#### Question 5 :  What about this code—what’s the output, and why?\n",
    "X = 'iNeuron'    \n",
    "def func():    \n",
    "X = 'NI'     \n",
    "def nested():     \n",
    "print(X)      \n",
    "nested()      \n",
    "func()      \n",
    "X      "
   ]
  },
  {
   "cell_type": "markdown",
   "id": "3f9c18a4",
   "metadata": {},
   "source": [
    "__Ans__ The output of the code is NI iNeuron. This is because when func is called, it overwrites the value of X in local scope and nested prints the value of X ,ie NI but the value of X still remains unchanged in the global scope . So when X is called, it prints iNeuron.    \n"
   ]
  },
  {
   "cell_type": "code",
   "execution_count": 5,
   "id": "b68acf36",
   "metadata": {},
   "outputs": [
    {
     "name": "stdout",
     "output_type": "stream",
     "text": [
      "NI\n"
     ]
    },
    {
     "data": {
      "text/plain": [
       "'iNeuron'"
      ]
     },
     "execution_count": 5,
     "metadata": {},
     "output_type": "execute_result"
    }
   ],
   "source": [
    "X = 'iNeuron'\n",
    "def func():\n",
    "    X = 'NI'\n",
    "    def nested():\n",
    "        print(X)\n",
    "    nested()\n",
    "func()\n",
    "X"
   ]
  },
  {
   "cell_type": "markdown",
   "id": "5928522b",
   "metadata": {},
   "source": [
    "#### Question 6 : How about this code: what is its output in Python 3, and explain?\n",
    "def func():    \n",
    "X = 'NI'     \n",
    "def nested():    \n",
    "nonlocal X    \n",
    "X = 'Spam'     \n",
    "nested()      \n",
    "print(X)     \n",
    "func()"
   ]
  },
  {
   "cell_type": "markdown",
   "id": "884c4f25",
   "metadata": {},
   "source": [
    "__Ans__  The output of the above code is Spam. nonlocal keyword in python is used to declare a variable as not local.Hence the statement X = \"Spam\" is modified in the global scope, hence the output of print(X) statement is Spam."
   ]
  },
  {
   "cell_type": "code",
   "execution_count": 6,
   "id": "16161609",
   "metadata": {},
   "outputs": [
    {
     "name": "stdout",
     "output_type": "stream",
     "text": [
      "Spam\n"
     ]
    }
   ],
   "source": [
    "def func():\n",
    "    X = 'NI'\n",
    "    def nested():\n",
    "        nonlocal X\n",
    "        X = 'Spam'\n",
    "    nested()\n",
    "    print(X)\n",
    "func()"
   ]
  },
  {
   "cell_type": "code",
   "execution_count": null,
   "id": "4bc709b9",
   "metadata": {},
   "outputs": [],
   "source": []
  }
 ],
 "metadata": {
  "kernelspec": {
   "display_name": "Python 3 (ipykernel)",
   "language": "python",
   "name": "python3"
  },
  "language_info": {
   "codemirror_mode": {
    "name": "ipython",
    "version": 3
   },
   "file_extension": ".py",
   "mimetype": "text/x-python",
   "name": "python",
   "nbconvert_exporter": "python",
   "pygments_lexer": "ipython3",
   "version": "3.9.7"
  }
 },
 "nbformat": 4,
 "nbformat_minor": 5
}
