{
 "cells": [
  {
   "cell_type": "markdown",
   "id": "6396c5b4",
   "metadata": {},
   "source": [
    "# Python basic Assignment-23"
   ]
  },
  {
   "cell_type": "markdown",
   "id": "577b4b96",
   "metadata": {},
   "source": [
    "#### Question 1 :1. What is the result of the code, and why?\n",
    " def func(a, b=6, c=8):    \n",
    "     print(a, b, c)    \n",
    " func(1, 2)      "
   ]
  },
  {
   "cell_type": "markdown",
   "id": "5701c85a",
   "metadata": {},
   "source": [
    "__Ans:__  ouptut: 1  2  8.    \n",
    "the function func() asks for three arguments and it specifies the default value of two arguments, so if in case user does not input the value , the function uses the dafult value."
   ]
  },
  {
   "cell_type": "code",
   "execution_count": 4,
   "id": "93ccda98",
   "metadata": {},
   "outputs": [
    {
     "name": "stdout",
     "output_type": "stream",
     "text": [
      "1 2 8\n"
     ]
    }
   ],
   "source": [
    "def func(a,b=6,c=8):\n",
    "    print(a,b,c)\n",
    "func(1,2)"
   ]
  },
  {
   "cell_type": "markdown",
   "id": "47d82f33",
   "metadata": {},
   "source": [
    "#### Question 2 : What is the result of this code, and why?\n",
    "def func(a, b, c=5):    \n",
    "print(a, b, c)    \n",
    "func(1, c=3, b=2)    "
   ]
  },
  {
   "cell_type": "markdown",
   "id": "447af4b2",
   "metadata": {},
   "source": [
    "__Ans__  1 2  3.     \n",
    "This is because the argument name is mentioned while calling a function, thus order of the argunents is ignored by the interpreter. "
   ]
  },
  {
   "cell_type": "code",
   "execution_count": 5,
   "id": "faf9fba6",
   "metadata": {},
   "outputs": [
    {
     "name": "stdout",
     "output_type": "stream",
     "text": [
      "1 2 3\n"
     ]
    }
   ],
   "source": [
    "def func(a,b,c=5):\n",
    "    print(a,b,c)\n",
    "func(1,c=3,b=2)"
   ]
  },
  {
   "cell_type": "markdown",
   "id": "902118c0",
   "metadata": {},
   "source": [
    "#### Question 3 : How about this code: what is its result, and why?\n",
    "def func(a, *pargs):    \n",
    "print(a, pargs)    \n",
    " func(1, 2, 3)"
   ]
  },
  {
   "cell_type": "markdown",
   "id": "902c482d",
   "metadata": {},
   "source": [
    "__Ans__ 1  (2, 3)    \n",
    "This is because *(pargs/anyname) stands for variable lenght argument and is used when we want to pass different number of arguments each time we call a  function. And values will be stored as tuple."
   ]
  },
  {
   "cell_type": "code",
   "execution_count": 7,
   "id": "c9d19c95",
   "metadata": {},
   "outputs": [
    {
     "name": "stdout",
     "output_type": "stream",
     "text": [
      "1 (2, 3)\n"
     ]
    }
   ],
   "source": [
    "def func(a, *pargs):\n",
    "    print(a, pargs)\n",
    "func(1, 2, 3)"
   ]
  },
  {
   "cell_type": "markdown",
   "id": "e5333814",
   "metadata": {},
   "source": [
    "#### Question 4 :  What does this code print, and why?\n",
    " def func(a, **kargs):   \n",
    "print(a, kargs)    \n",
    "func(a=1, c=3, b=2)    "
   ]
  },
  {
   "cell_type": "markdown",
   "id": "28c6929a",
   "metadata": {},
   "source": [
    "The result of the above code is 1 {'c': 3, 'b': 2}.    \n",
    "**args stands for variable length keyword arguments.      \n",
    "this format is used when we want pass key value pairs as input to a function.      \n",
    "All these key value pairs will be stored as a dictionary"
   ]
  },
  {
   "cell_type": "code",
   "execution_count": 9,
   "id": "e1d9f127",
   "metadata": {},
   "outputs": [
    {
     "name": "stdout",
     "output_type": "stream",
     "text": [
      "1 {'c': 3, 'b': 2}\n"
     ]
    }
   ],
   "source": [
    "def func(a, **kargs):   \n",
    "    print(a, kargs)    \n",
    "func(a=1, c=3, b=2)"
   ]
  },
  {
   "cell_type": "markdown",
   "id": "c77ca483",
   "metadata": {},
   "source": [
    "#### question 5 : What gets printed by this, and explain?\n",
    "def func(a, b, c=8, d=5):      \n",
    "    print(a, b, c, d)    \n",
    "func(1, *(5, 6))"
   ]
  },
  {
   "cell_type": "markdown",
   "id": "e08cc65e",
   "metadata": {},
   "source": [
    "The result of this code is 1 5 6 5.    \n",
    "This function expects 4 arguments . Here value of a is explicitly provided and the function will expand * (5, 6) for the arguments b and c and it will use the dafualt value of d provided in the definition of the function. "
   ]
  },
  {
   "cell_type": "code",
   "execution_count": 11,
   "id": "9277c690",
   "metadata": {},
   "outputs": [
    {
     "name": "stdout",
     "output_type": "stream",
     "text": [
      "1 5 6 5\n"
     ]
    }
   ],
   "source": [
    "def func(a, b, c=8, d=5):      \n",
    "    print(a, b, c, d)    \n",
    "func(1, *(5, 6))"
   ]
  },
  {
   "cell_type": "markdown",
   "id": "a45ea98f",
   "metadata": {},
   "source": [
    "#### Question 6 : what is the result of this, and explain?\n",
    "def func(a, b, c): a = 2; b[0] = 'x'; c['a'] = 'y'    \n",
    "l=1; m=[1]; n={'a':0}     \n",
    "func(l, m, n)     \n",
    "l, m, n"
   ]
  },
  {
   "cell_type": "markdown",
   "id": "5ec4882f",
   "metadata": {},
   "source": [
    "__Ans__ output of the code is (1, ['x'], {'a': 'y'})    \n",
    "Python allows you to declare a function in one line, where statements in the body of the function are separated by ;.    \n",
    "When l,m,n are provided as inputs to the function. It modifies the values of l,m,n and sets the value of l=2 ,m=['x'] and n={'a':'y'}"
   ]
  },
  {
   "cell_type": "code",
   "execution_count": 13,
   "id": "e1f0b29f",
   "metadata": {},
   "outputs": [
    {
     "data": {
      "text/plain": [
       "(1, ['x'], {'a': 'y'})"
      ]
     },
     "execution_count": 13,
     "metadata": {},
     "output_type": "execute_result"
    }
   ],
   "source": [
    "def func(a, b, c):\n",
    "    a = 2; b[0] = 'x'; c['a'] = 'y'\n",
    "l=1; m=[1]; n={'a':0}\n",
    "func(l, m, n)\n",
    "l, m, n"
   ]
  }
 ],
 "metadata": {
  "kernelspec": {
   "display_name": "Python 3 (ipykernel)",
   "language": "python",
   "name": "python3"
  },
  "language_info": {
   "codemirror_mode": {
    "name": "ipython",
    "version": 3
   },
   "file_extension": ".py",
   "mimetype": "text/x-python",
   "name": "python",
   "nbconvert_exporter": "python",
   "pygments_lexer": "ipython3",
   "version": "3.9.7"
  }
 },
 "nbformat": 4,
 "nbformat_minor": 5
}
