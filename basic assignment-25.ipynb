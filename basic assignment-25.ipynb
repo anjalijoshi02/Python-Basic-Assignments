{
 "cells": [
  {
   "cell_type": "markdown",
   "id": "660f0346",
   "metadata": {},
   "source": [
    "# Python Basic Assignment-25"
   ]
  },
  {
   "cell_type": "markdown",
   "id": "83d842ac",
   "metadata": {},
   "source": [
    "#### Question 1 : What is the difference between enclosing a list comprehension in square brackets and parentheses?\n",
    "__Ans__  1. Enclosing a list comprehension in square brackets return a list while enclosing a list comprehension in parentheses returns a generator object "
   ]
  },
  {
   "cell_type": "code",
   "execution_count": 4,
   "id": "c4a70714",
   "metadata": {},
   "outputs": [
    {
     "name": "stdout",
     "output_type": "stream",
     "text": [
      "[0, 1, 2, 3, 4] <class 'list'>\n",
      "<generator object <genexpr> at 0x0000012B3DE180B0> <class 'generator'>\n"
     ]
    }
   ],
   "source": [
    "# Example \n",
    "l=[i for i in range(5)]\n",
    "print(l,type(l))\n",
    "l1=(i for i in range(5))\n",
    "print(l1,type(l1))"
   ]
  },
  {
   "cell_type": "markdown",
   "id": "b623f28a",
   "metadata": {},
   "source": [
    "#### Question 2 : What is the relationship between generators and iterators?\n",
    "__Ans__    \n",
    "- An __iterator__ is an object that contains countable number of values and it is used to ietrable objects like lists, tuples, etc. .For an iterator: iter() keyword is used to create an iterator containing an iterable object.    \n",
    "- next() keyword is used to call the next element in the iterable object.    \n",
    "- __Generators__ are also used to create iteraor object , but they use yield function instead of return statement.   \n",
    "- It will return a sequence of data in an iterable format where we need to iterate over the sequence to use the data as they won’t store the entire sequence in the memory."
   ]
  },
  {
   "cell_type": "markdown",
   "id": "d39e3c42",
   "metadata": {},
   "source": [
    "#### Question 3 : What are the signs that a function is a generator function?\n",
    "__Ans__ \n",
    "- A __generator__ function uses __yield__ statement instead of __return__ statement.\n",
    "- A generator function will always return an iterable object called generator."
   ]
  },
  {
   "cell_type": "markdown",
   "id": "d049960b",
   "metadata": {},
   "source": [
    "#### Question 4 : What is the purpose of a yield statement?\n",
    "__Ans__\n",
    "- yield provides a value to the code looping over the generator and pauses execution of the generator function.\n",
    "- yield allows its code to produce a series of values over time, rather than computing them at once and sending them back like a list thus making code memory efficient"
   ]
  },
  {
   "cell_type": "markdown",
   "id": "1804032f",
   "metadata": {},
   "source": [
    "#### Question 5 : What is the relationship between map calls and list comprehensions? Make a comparison and contrast between the two ?\n",
    "__Ans__\n",
    "- List comprehension is concise and easier to read as compared to map calls.\n",
    "- Map is faster in case of calling an already defined function on a set of values.\n",
    "- List comprehension allows filtering while there is no such function in map.\n",
    "- List comprehension is faster than map when we need to evaluate expressions that are too long or complicated to express.\n"
   ]
  },
  {
   "cell_type": "code",
   "execution_count": null,
   "id": "7018a6ac",
   "metadata": {},
   "outputs": [],
   "source": []
  }
 ],
 "metadata": {
  "kernelspec": {
   "display_name": "Python 3 (ipykernel)",
   "language": "python",
   "name": "python3"
  },
  "language_info": {
   "codemirror_mode": {
    "name": "ipython",
    "version": 3
   },
   "file_extension": ".py",
   "mimetype": "text/x-python",
   "name": "python",
   "nbconvert_exporter": "python",
   "pygments_lexer": "ipython3",
   "version": "3.9.7"
  }
 },
 "nbformat": 4,
 "nbformat_minor": 5
}
