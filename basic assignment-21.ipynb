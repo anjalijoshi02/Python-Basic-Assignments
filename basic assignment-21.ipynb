{
 "cells": [
  {
   "cell_type": "markdown",
   "id": "002f5041",
   "metadata": {},
   "source": [
    "# Python Basic assignment-21"
   ]
  },
  {
   "cell_type": "markdown",
   "id": "76954781",
   "metadata": {},
   "source": [
    "#### Question 1 : Add the current date to the text file today.txt as a string."
   ]
  },
  {
   "cell_type": "code",
   "execution_count": 1,
   "id": "a1eaf485",
   "metadata": {},
   "outputs": [
    {
     "name": "stdout",
     "output_type": "stream",
     "text": [
      "21-03-2022\n"
     ]
    }
   ],
   "source": [
    "import datetime\n",
    "f = open('today.txt','w') #opening the file to write data\n",
    "f.write(datetime.datetime.now().strftime(\"%d-%m-%Y\"))\n",
    "f.close()\n",
    "file = open('today.txt','r')\n",
    "print(file.read())\n",
    "file.close()"
   ]
  },
  {
   "cell_type": "markdown",
   "id": "783d3b77",
   "metadata": {},
   "source": [
    "#### Question 2 : Read the text file today.txt into the string today_string"
   ]
  },
  {
   "cell_type": "code",
   "execution_count": 2,
   "id": "d30177c9",
   "metadata": {},
   "outputs": [
    {
     "name": "stdout",
     "output_type": "stream",
     "text": [
      "21-03-2022\n"
     ]
    }
   ],
   "source": [
    "f = open('today.txt','r')\n",
    "today_string = f.read()\n",
    "print(today_string)"
   ]
  },
  {
   "cell_type": "markdown",
   "id": "662ee89e",
   "metadata": {},
   "source": [
    "#### Question 3: Parse the date from today_string"
   ]
  },
  {
   "cell_type": "code",
   "execution_count": 3,
   "id": "c121a8ca",
   "metadata": {},
   "outputs": [
    {
     "name": "stdout",
     "output_type": "stream",
     "text": [
      "2022-03-21 00:00:00\n"
     ]
    }
   ],
   "source": [
    "from datetime import datetime\n",
    "par_data = datetime.strptime(today_string, '%d-%m-%Y')\n",
    "print(par_data)"
   ]
  },
  {
   "cell_type": "markdown",
   "id": "588b70d3",
   "metadata": {},
   "source": [
    "#### Question 4: List the files in your current directory"
   ]
  },
  {
   "cell_type": "code",
   "execution_count": 4,
   "id": "a2013c3f",
   "metadata": {},
   "outputs": [
    {
     "name": "stdout",
     "output_type": "stream",
     "text": [
      "basic assignment -01.ipynb\n",
      "basic assignment-22.ipynb\n",
      "basic assignment-23.ipynb\n",
      "basic assignment-24.ipynb\n",
      "basic assignment-25.ipynb\n",
      "Basic assignment-3.ipynb\n",
      "Basic Assignment-4.ipynb\n",
      "basic assignment-5.ipynb\n",
      "basic assignment-6.ipynb\n",
      "python basic assignment-2.ipynb\n",
      "today.txt\n",
      "Untitled.ipynb\n",
      "basic assignment -01-checkpoint.ipynb\n",
      "basic assignment-22-checkpoint.ipynb\n",
      "basic assignment-23-checkpoint.ipynb\n",
      "basic assignment-24-checkpoint.ipynb\n",
      "basic assignment-25-checkpoint.ipynb\n",
      "Untitled-checkpoint.ipynb\n"
     ]
    }
   ],
   "source": [
    "import os\n",
    "for folders, subfolders, files in os.walk(os.getcwd()):\n",
    "    for file in files:\n",
    "        print(file)"
   ]
  },
  {
   "cell_type": "markdown",
   "id": "9ed7bee4",
   "metadata": {},
   "source": [
    "#### Question 5: Create a list of all of the files in your parent directory (minimum five files should be available)."
   ]
  },
  {
   "cell_type": "code",
   "execution_count": 5,
   "id": "d57b8601",
   "metadata": {},
   "outputs": [
    {
     "data": {
      "text/plain": [
       "['.ipynb_checkpoints',\n",
       " 'basic assignment -01.ipynb',\n",
       " 'basic assignment-22.ipynb',\n",
       " 'basic assignment-23.ipynb',\n",
       " 'basic assignment-24.ipynb',\n",
       " 'basic assignment-25.ipynb',\n",
       " 'Basic assignment-3.ipynb',\n",
       " 'Basic Assignment-4.ipynb',\n",
       " 'basic assignment-5.ipynb',\n",
       " 'basic assignment-6.ipynb',\n",
       " 'python basic assignment-2.ipynb',\n",
       " 'today.txt',\n",
       " 'Untitled.ipynb']"
      ]
     },
     "execution_count": 5,
     "metadata": {},
     "output_type": "execute_result"
    }
   ],
   "source": [
    "import os \n",
    "os.listdir()"
   ]
  },
  {
   "cell_type": "markdown",
   "id": "d6bef318",
   "metadata": {},
   "source": [
    "#### Question 7:  Create a date object of your day of birth"
   ]
  },
  {
   "cell_type": "code",
   "execution_count": 6,
   "id": "cc2815d1",
   "metadata": {},
   "outputs": [
    {
     "data": {
      "text/plain": [
       "'Saturday'"
      ]
     },
     "execution_count": 6,
     "metadata": {},
     "output_type": "execute_result"
    }
   ],
   "source": [
    "from datetime import datetime\n",
    "my_dob = datetime(2002,3,2)\n",
    "my_dob.strftime(\"%A\")"
   ]
  },
  {
   "cell_type": "markdown",
   "id": "11bfcb15",
   "metadata": {},
   "source": [
    "#### Question 8: When will you be (or when were you) 10,000 days old?\n"
   ]
  },
  {
   "cell_type": "code",
   "execution_count": 7,
   "id": "42873924",
   "metadata": {},
   "outputs": [
    {
     "data": {
      "text/plain": [
       "datetime.datetime(1974, 10, 15, 0, 0)"
      ]
     },
     "execution_count": 7,
     "metadata": {},
     "output_type": "execute_result"
    }
   ],
   "source": [
    "from datetime import datetime, timedelta\n",
    "my_dob = datetime.strptime(\"02/03/2002\",'%d/%m/%Y')\n",
    "future = my_dob-timedelta(10000)\n",
    "future"
   ]
  },
  {
   "cell_type": "code",
   "execution_count": null,
   "id": "7751c555",
   "metadata": {},
   "outputs": [],
   "source": []
  }
 ],
 "metadata": {
  "kernelspec": {
   "display_name": "Python 3 (ipykernel)",
   "language": "python",
   "name": "python3"
  },
  "language_info": {
   "codemirror_mode": {
    "name": "ipython",
    "version": 3
   },
   "file_extension": ".py",
   "mimetype": "text/x-python",
   "name": "python",
   "nbconvert_exporter": "python",
   "pygments_lexer": "ipython3",
   "version": "3.9.12"
  }
 },
 "nbformat": 4,
 "nbformat_minor": 5
}
