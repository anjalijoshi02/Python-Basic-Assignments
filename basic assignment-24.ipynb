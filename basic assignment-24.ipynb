{
 "cells": [
  {
   "cell_type": "markdown",
   "id": "85251bc3",
   "metadata": {},
   "source": [
    "# Python Basic Assignment-24"
   ]
  },
  {
   "cell_type": "markdown",
   "id": "7854c92a",
   "metadata": {},
   "source": [
    "#### Question 1 : What is the relationship between def statements and lambda expressions ?\n",
    "__Ans__ def statement is used to create function while lambda statement is used to create anonymous function which can be assigned to a variable and can be called using variable later in the function.    \n"
   ]
  },
  {
   "cell_type": "markdown",
   "id": "ad1829a4",
   "metadata": {},
   "source": [
    "#### Question 2 : What is the benefit of lambda?\n",
    "- used to create anonymous function.\n",
    "- can be created in one single line.\n",
    "- can be stored in a variable and later used by calling that variable."
   ]
  },
  {
   "cell_type": "markdown",
   "id": "affcdfd4",
   "metadata": {},
   "source": [
    "#### Question 3 : Compare and contrast map, filter, and reduce.\n",
    "- map(): The map() function is a type of higher-order. This function takes another function as a parameter along with a sequence of iterables and returns an output after applying the function to each iterable present in the sequence.\n",
    "- filter(): The filter() function is used to create an output list consisting of values for which the function returns true.\n",
    "- reduce(): The reduce() function applies a given function to the iterables and returns a single value"
   ]
  },
  {
   "cell_type": "markdown",
   "id": "af2f85e4",
   "metadata": {},
   "source": [
    "#### Question 4: What are function annotations, and how are they used?\n",
    "Function annotations provide a way of associating various parts of a function with arbitrary pythoncexpressions at compile time.    \n",
    "Annotations of simple parameters def func(x: expression, y: expression = 20):    \n",
    "Whereas the annotations for excess parameters are as − def func (**args: expression, **kwargs: expression):"
   ]
  },
  {
   "cell_type": "markdown",
   "id": "06032853",
   "metadata": {},
   "source": [
    "#### Question 5 : What are recursive functions, and how are they used?\n",
    "A recursive function is the one that calls itself during its execution. \n",
    "They are used inside their function definition."
   ]
  },
  {
   "cell_type": "markdown",
   "id": "579dd1c4",
   "metadata": {},
   "source": [
    "#### Question 6 : What are some general design guidelines for coding functions?\n",
    "Some of the general design guidelines for coding functions are :\n",
    "- use def (function name) to create a function.\n",
    "- try to name the function in a way that conveys the purpose of the function. \n",
    "- use docstring to describe the functionality of the function.\n",
    "- avoid using digits to name variables.\n",
    "- limited use of global variables.\n"
   ]
  },
  {
   "cell_type": "markdown",
   "id": "e7496d4e",
   "metadata": {},
   "source": [
    "#### Question 7 : Name three or more ways that functions can communicate results to a caller.\n",
    "Some of ways by which functions can communicate results to a caller are:\n",
    "- print()\n",
    "- return\n",
    "- yield"
   ]
  }
 ],
 "metadata": {
  "kernelspec": {
   "display_name": "Python 3 (ipykernel)",
   "language": "python",
   "name": "python3"
  },
  "language_info": {
   "codemirror_mode": {
    "name": "ipython",
    "version": 3
   },
   "file_extension": ".py",
   "mimetype": "text/x-python",
   "name": "python",
   "nbconvert_exporter": "python",
   "pygments_lexer": "ipython3",
   "version": "3.9.7"
  }
 },
 "nbformat": 4,
 "nbformat_minor": 5
}
